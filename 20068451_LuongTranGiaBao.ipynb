{
 "metadata": {
  "language_info": {
   "codemirror_mode": {
    "name": "ipython",
    "version": 3
   },
   "file_extension": ".py",
   "mimetype": "text/x-python",
   "name": "python",
   "nbconvert_exporter": "python",
   "pygments_lexer": "ipython3",
   "version": "3.8.5"
  },
  "orig_nbformat": 2,
  "kernelspec": {
   "name": "python3",
   "display_name": "Python 3.8.5 64-bit (conda)",
   "metadata": {
    "interpreter": {
     "hash": "b3ba2566441a7c06988d0923437866b63cedc61552a5af99d1f4fb67d367b25f"
    }
   }
  }
 },
 "nbformat": 4,
 "nbformat_minor": 2,
 "cells": [
  {
   "cell_type": "code",
   "execution_count": 95,
   "metadata": {},
   "outputs": [],
   "source": [
    "import pandas as pd\n",
    "import seaborn as sns\n",
    "import matplotlib.pyplot as plt"
   ]
  },
  {
   "cell_type": "code",
   "execution_count": 96,
   "metadata": {},
   "outputs": [
    {
     "output_type": "execute_result",
     "data": {
      "text/plain": [
       "    t_i  c_i  target\n",
       "0   145  233       1\n",
       "1   130  250       1\n",
       "2   130  204       1\n",
       "3   130  254       0\n",
       "4   140  203       0\n",
       "5   130  256       0\n",
       "6   140  294       1\n",
       "7   120  263       1\n",
       "8   172  199       1\n",
       "9   150  168       1\n",
       "10  120  229       0\n",
       "11  140  268       0"
      ],
      "text/html": "<div>\n<style scoped>\n    .dataframe tbody tr th:only-of-type {\n        vertical-align: middle;\n    }\n\n    .dataframe tbody tr th {\n        vertical-align: top;\n    }\n\n    .dataframe thead th {\n        text-align: right;\n    }\n</style>\n<table border=\"1\" class=\"dataframe\">\n  <thead>\n    <tr style=\"text-align: right;\">\n      <th></th>\n      <th>t_i</th>\n      <th>c_i</th>\n      <th>target</th>\n    </tr>\n  </thead>\n  <tbody>\n    <tr>\n      <th>0</th>\n      <td>145</td>\n      <td>233</td>\n      <td>1</td>\n    </tr>\n    <tr>\n      <th>1</th>\n      <td>130</td>\n      <td>250</td>\n      <td>1</td>\n    </tr>\n    <tr>\n      <th>2</th>\n      <td>130</td>\n      <td>204</td>\n      <td>1</td>\n    </tr>\n    <tr>\n      <th>3</th>\n      <td>130</td>\n      <td>254</td>\n      <td>0</td>\n    </tr>\n    <tr>\n      <th>4</th>\n      <td>140</td>\n      <td>203</td>\n      <td>0</td>\n    </tr>\n    <tr>\n      <th>5</th>\n      <td>130</td>\n      <td>256</td>\n      <td>0</td>\n    </tr>\n    <tr>\n      <th>6</th>\n      <td>140</td>\n      <td>294</td>\n      <td>1</td>\n    </tr>\n    <tr>\n      <th>7</th>\n      <td>120</td>\n      <td>263</td>\n      <td>1</td>\n    </tr>\n    <tr>\n      <th>8</th>\n      <td>172</td>\n      <td>199</td>\n      <td>1</td>\n    </tr>\n    <tr>\n      <th>9</th>\n      <td>150</td>\n      <td>168</td>\n      <td>1</td>\n    </tr>\n    <tr>\n      <th>10</th>\n      <td>120</td>\n      <td>229</td>\n      <td>0</td>\n    </tr>\n    <tr>\n      <th>11</th>\n      <td>140</td>\n      <td>268</td>\n      <td>0</td>\n    </tr>\n  </tbody>\n</table>\n</div>"
     },
     "metadata": {},
     "execution_count": 96
    }
   ],
   "source": [
    "df = pd.read_excel('heart_short.xlsx',sheet_name=\"data\")\n",
    "df"
   ]
  },
  {
   "cell_type": "code",
   "execution_count": 97,
   "metadata": {},
   "outputs": [],
   "source": [
    "\n",
    "X = df[['t_i','target','c_i']].values # input\n",
    "y = df[['target']].values # output\n",
    "\n",
    "X = X.astype(float)\n",
    "y = y.astype(float)"
   ]
  },
  {
   "cell_type": "code",
   "execution_count": 98,
   "metadata": {},
   "outputs": [],
   "source": [
    "\n",
    "from sklearn.model_selection import train_test_split"
   ]
  },
  {
   "cell_type": "code",
   "execution_count": 99,
   "metadata": {},
   "outputs": [],
   "source": [
    "X_train, X_test, y_train, y_test = train_test_split(X,y,test_size=0.4, random_state=34)\n"
   ]
  },
  {
   "cell_type": "code",
   "execution_count": 100,
   "metadata": {},
   "outputs": [
    {
     "output_type": "stream",
     "name": "stderr",
     "text": [
      "<ipython-input-100-249d7eaa726f>:4: DataConversionWarning: A column-vector y was passed when a 1d array was expected. Please change the shape of y to (n_samples, ), for example using ravel().\n  knnModel.fit(X_train, y_train)\n"
     ]
    },
    {
     "output_type": "execute_result",
     "data": {
      "text/plain": [
       "KNeighborsClassifier()"
      ]
     },
     "metadata": {},
     "execution_count": 100
    }
   ],
   "source": [
    "from sklearn.neighbors import KNeighborsClassifier\n",
    "knnModel = KNeighborsClassifier(n_neighbors=5)\n",
    "\n",
    "knnModel.fit(X_train, y_train)\n"
   ]
  },
  {
   "cell_type": "code",
   "execution_count": 101,
   "metadata": {},
   "outputs": [
    {
     "output_type": "execute_result",
     "data": {
      "text/plain": [
       "array([0., 0., 0., 0., 0.])"
      ]
     },
     "metadata": {},
     "execution_count": 101
    }
   ],
   "source": [
    "\n",
    "y_test_predicted =knnModel.predict(X_test)\n",
    "y_test_predicted"
   ]
  },
  {
   "cell_type": "code",
   "execution_count": 102,
   "metadata": {},
   "outputs": [
    {
     "output_type": "execute_result",
     "data": {
      "text/plain": [
       "0.2"
      ]
     },
     "metadata": {},
     "execution_count": 102
    }
   ],
   "source": [
    "\n",
    "knnModel.score(X_test, y_test)"
   ]
  },
  {
   "cell_type": "code",
   "execution_count": 103,
   "metadata": {},
   "outputs": [
    {
     "output_type": "execute_result",
     "data": {
      "text/plain": [
       "0.2"
      ]
     },
     "metadata": {},
     "execution_count": 103
    }
   ],
   "source": [
    "from sklearn.metrics import accuracy_score\n",
    "accuracy_score(y_test,y_test_predicted)"
   ]
  },
  {
   "cell_type": "code",
   "execution_count": 107,
   "metadata": {},
   "outputs": [
    {
     "output_type": "execute_result",
     "data": {
      "text/plain": [
       "array([0., 1.])"
      ]
     },
     "metadata": {},
     "execution_count": 107
    }
   ],
   "source": [
    "classes = knnModel.classes_\n",
    "classes"
   ]
  },
  {
   "cell_type": "code",
   "execution_count": 109,
   "metadata": {},
   "outputs": [
    {
     "output_type": "execute_result",
     "data": {
      "text/plain": [
       "array([[0.8, 0.2],\n",
       "       [0.6, 0.4],\n",
       "       [0.6, 0.4],\n",
       "       [0.6, 0.4],\n",
       "       [0.6, 0.4]])"
      ]
     },
     "metadata": {},
     "execution_count": 109
    }
   ],
   "source": [
    "Y_test_prob = knnModel.predict_proba(X_test)\n",
    "Y_test_prob"
   ]
  },
  {
   "cell_type": "code",
   "execution_count": 113,
   "metadata": {},
   "outputs": [
    {
     "output_type": "stream",
     "name": "stdout",
     "text": [
      "predictio with threshold  0.85\n"
     ]
    },
    {
     "output_type": "execute_result",
     "data": {
      "text/plain": [
       "array([0., 0., 0., 0., 0.])"
      ]
     },
     "metadata": {},
     "execution_count": 113
    }
   ],
   "source": [
    "#hay thiet lap nguong quyet dinh la 0.85\n",
    "#thi ket qua accurancy thay doi ra sao\n",
    "\n",
    "print(\"predictio with threshold  0.85\")\n",
    "y_pred_test_085 = (knnModel.predict_proba(X_test)[:,1] >= 0.85 ).astype(float)\n",
    "y_pred_test_085\n"
   ]
  },
  {
   "cell_type": "code",
   "execution_count": 112,
   "metadata": {},
   "outputs": [
    {
     "output_type": "stream",
     "name": "stdout",
     "text": [
      "predictio with threshold  0.25\n"
     ]
    },
    {
     "output_type": "execute_result",
     "data": {
      "text/plain": [
       "array([0., 1., 1., 1., 1.])"
      ]
     },
     "metadata": {},
     "execution_count": 112
    }
   ],
   "source": [
    "#hay thiet lap nguong quyet dinh la 0.25\n",
    "#thi ket qua accurancy thay doi ra sao\n",
    "print(\"predictio with threshold  0.25\")\n",
    "y_pred_test_025 = (knnModel.predict_proba(X_test)[:,1] >= 0.25 ).astype(float)\n",
    "y_pred_test_025"
   ]
  },
  {
   "cell_type": "code",
   "execution_count": 115,
   "metadata": {},
   "outputs": [
    {
     "output_type": "execute_result",
     "data": {
      "text/plain": [
       "array([[1, 0],\n",
       "       [4, 0]], dtype=int64)"
      ]
     },
     "metadata": {},
     "execution_count": 115
    }
   ],
   "source": [
    "from sklearn.metrics import confusion_matrix\n",
    "cf_matrix = confusion_matrix(y_test, y_test_predicted)\n",
    "\n",
    "cf_matrix"
   ]
  },
  {
   "cell_type": "code",
   "execution_count": 120,
   "metadata": {},
   "outputs": [
    {
     "output_type": "error",
     "ename": "SyntaxError",
     "evalue": "EOL while scanning string literal (<ipython-input-120-d2855529420b>, line 2)",
     "traceback": [
      "\u001b[1;36m  File \u001b[1;32m\"<ipython-input-120-d2855529420b>\"\u001b[1;36m, line \u001b[1;32m2\u001b[0m\n\u001b[1;33m    print(f' {tp},{fp}, {fn}, {tn})\u001b[0m\n\u001b[1;37m                                   ^\u001b[0m\n\u001b[1;31mSyntaxError\u001b[0m\u001b[1;31m:\u001b[0m EOL while scanning string literal\n"
     ]
    }
   ],
   "source": [
    "tp,fp,fn,tn = confusion_matrix(y_test, y_test_predicted).ravel()\n",
    "print(f' {tp},{fp}, {fn}, {tn})"
   ]
  },
  {
   "cell_type": "code",
   "execution_count": 116,
   "metadata": {},
   "outputs": [
    {
     "output_type": "stream",
     "name": "stdout",
     "text": [
      "precision, recall, f1: (1.0, 0.2, 0.33333333333333337)\n"
     ]
    }
   ],
   "source": [
    "def myscores(smat): \n",
    "    tp = smat[0][0] \n",
    "    fp = smat[0][1] \n",
    "    fn = smat[1][0] \n",
    "    tn = smat[1][1] \n",
    "    vprecision = tp/(tp+fp)\n",
    "    vrecall = tp/(tp+fn)\n",
    "    vf1 = 2*(vprecision*vrecall)/(vprecision+vrecall) \n",
    "\n",
    "    return vprecision,vrecall,vf1\n",
    "print(\"precision, recall, f1:\", myscores(cf_matrix))"
   ]
  },
  {
   "cell_type": "code",
   "execution_count": null,
   "metadata": {},
   "outputs": [],
   "source": [
    "from sklearn.metrics import classification_report\n",
    "target_names = ['Không bệnh', 'Có bệnh']\n",
    "print(classification_report(y_test, y_test_predicted, target_names=target_names))"
   ]
  },
  {
   "cell_type": "code",
   "execution_count": null,
   "metadata": {},
   "outputs": [],
   "source": [
    "from sklearn import metrics\n",
    "\n",
    "y_pred_proba = knnModel.predict_proba(X_test)[::,1]\n",
    "fpr, tpr, _ = metrics.roc_curve(y_test,  y_pred_proba)\n",
    "auc = metrics.roc_auc_score(y_test, y_pred_proba)\n",
    "plt.plot(fpr,tpr,'go-',label=\"AUC=\"+str(auc))\n",
    "plt.plot([0,1],[0,1],'r--')\n",
    "plt.title(\"AUC & ROC Curve\")\n",
    "plt.xlabel('False Positive Rate')\n",
    "plt.ylabel('True Positive Rate')\n",
    "plt.legend(loc=4)\n",
    "plt.fill_between(fpr, tpr, facecolor='lightgreen', alpha=0.7)\n",
    "plt.show()"
   ]
  },
  {
   "cell_type": "code",
   "execution_count": null,
   "metadata": {},
   "outputs": [],
   "source": []
  }
 ]
}